{
 "cells": [
  {
   "cell_type": "code",
   "execution_count": 1,
   "id": "58f7216c",
   "metadata": {},
   "outputs": [],
   "source": [
    "from pyspark import SparkConf\n",
    "from pyspark.ml import Pipeline, PipelineModel\n",
    "from pyspark.ml.feature import VectorAssembler, Normalizer\n",
    "from pyspark.sql import SparkSession, functions, types\n",
    "from pyspark.ml.regression import LinearRegression\n",
    "from pyspark.ml.evaluation import RegressionEvaluator\n",
    "from pyspark.ml.recommendation import ALS\n",
    "import matplotlib.pyplot as plt\n",
    "import numpy as np\n",
    "%matplotlib inline"
   ]
  },
  {
   "cell_type": "code",
   "execution_count": 2,
   "id": "7363c81c",
   "metadata": {},
   "outputs": [
    {
     "name": "stderr",
     "output_type": "stream",
     "text": [
      "2022-02-04 09:35:40,077 WARN util.Utils: Your hostname, DESKTOP-LR48F7J resolves to a loopback address: 127.0.1.1; using 172.30.172.147 instead (on interface eth0)\n",
      "2022-02-04 09:35:40,078 WARN util.Utils: Set SPARK_LOCAL_IP if you need to bind to another address\n",
      "Setting default log level to \"WARN\".\n",
      "To adjust logging level use sc.setLogLevel(newLevel). For SparkR, use setLogLevel(newLevel).\n",
      "2022-02-04 09:35:41,529 WARN util.NativeCodeLoader: Unable to load native-hadoop library for your platform... using builtin-java classes where applicable\n"
     ]
    }
   ],
   "source": [
    "spark = SparkSession.builder.master(\"local\").appName(\"Recommendation\").getOrCreate()\n",
    "movies= spark.read.csv(\"./movies.csv\", inferSchema = True, header = True)\n",
    "ratings = spark.read.csv(\"./ratings.csv\", inferSchema = True, header = True)"
   ]
  },
  {
   "cell_type": "code",
   "execution_count": 3,
   "id": "1a452fef",
   "metadata": {},
   "outputs": [
    {
     "name": "stdout",
     "output_type": "stream",
     "text": [
      "+-------+----------------------------------+-------------------------------------------+\n",
      "|movieId|title                             |genres                                     |\n",
      "+-------+----------------------------------+-------------------------------------------+\n",
      "|1      |Toy Story (1995)                  |Adventure|Animation|Children|Comedy|Fantasy|\n",
      "|2      |Jumanji (1995)                    |Adventure|Children|Fantasy                 |\n",
      "|3      |Grumpier Old Men (1995)           |Comedy|Romance                             |\n",
      "|4      |Waiting to Exhale (1995)          |Comedy|Drama|Romance                       |\n",
      "|5      |Father of the Bride Part II (1995)|Comedy                                     |\n",
      "+-------+----------------------------------+-------------------------------------------+\n",
      "only showing top 5 rows\n",
      "\n",
      "+------+-------+------+---------+\n",
      "|userId|movieId|rating|timestamp|\n",
      "+------+-------+------+---------+\n",
      "|     1|      1|   4.0|964982703|\n",
      "|     1|      3|   4.0|964981247|\n",
      "|     1|      6|   4.0|964982224|\n",
      "|     1|     47|   5.0|964983815|\n",
      "|     1|     50|   5.0|964982931|\n",
      "+------+-------+------+---------+\n",
      "only showing top 5 rows\n",
      "\n"
     ]
    }
   ],
   "source": [
    "movies.show(5, truncate = False)\n",
    "ratings.show(5)"
   ]
  },
  {
   "cell_type": "markdown",
   "id": "d7cf2a94",
   "metadata": {},
   "source": [
    "First, for the ratings table, I use **groupBy()** to group data with the same movieId, **count()** to count the number of ratings for each movieId, and generate a new column \"count\", and then use **orderBy()** and **functions.desc()** to sort in descending order based on \"count\", and then use **limit()** to get the ten with the highest counts, so that to get ids of the top-10 movies with the largest number of ratings\n",
    "\n",
    "Finally, use the id of the top10 movie and the movies table to perform a left join based on \"movieId\" column, and then use **select()** to select the “title” column to get the top10 movie names"
   ]
  },
  {
   "cell_type": "code",
   "execution_count": 4,
   "id": "6135f021",
   "metadata": {},
   "outputs": [
    {
     "name": "stdout",
     "output_type": "stream",
     "text": [
      "+-----------------------------------------+\n",
      "|title                                    |\n",
      "+-----------------------------------------+\n",
      "|Forrest Gump (1994)                      |\n",
      "|Shawshank Redemption, The (1994)         |\n",
      "|Pulp Fiction (1994)                      |\n",
      "|Silence of the Lambs, The (1991)         |\n",
      "|Matrix, The (1999)                       |\n",
      "|Star Wars: Episode IV - A New Hope (1977)|\n",
      "|Jurassic Park (1993)                     |\n",
      "|Braveheart (1995)                        |\n",
      "|Terminator 2: Judgment Day (1991)        |\n",
      "|Schindler's List (1993)                  |\n",
      "+-----------------------------------------+\n",
      "\n"
     ]
    }
   ],
   "source": [
    "topIds = ratings.groupBy(\"movieId\").count().orderBy(functions.desc(\"count\")).limit(10).select(\"movieId\")\n",
    "topNames = topIds.join(movies, topIds[\"movieId\"] == movies[\"movieId\"], \"left\").select(\"title\")\n",
    "topNames.show(truncate = False)"
   ]
  },
  {
   "cell_type": "markdown",
   "id": "e5a99e87",
   "metadata": {},
   "source": [
    "Since each movie may belong to multiple genres, I first used **functions.explode()** and **functions.split()** split the movie data belonging to multiple genres into multiple lines, each line containing exactly one genre.\n",
    "\n",
    "Then I used **groupBy()** and **avg()** on the ratings table to average all ratings for each movie.\n",
    "\n",
    "After this, I use **join()** to join the previous results together: i.e. each row of data should contain the movie's title, its genre, and the user's average rating for it.\n",
    "\n",
    "Finally, for each genre's movie, use **filter()** to get all the data of movies with this genre, and use the method of the previous question to sort the data in descending order based on the average rating, and get the titles of the top 10.\n",
    "\n",
    "For simplicity, only the results of the first three gernes are printed."
   ]
  },
  {
   "cell_type": "code",
   "execution_count": 5,
   "id": "2c8a478d",
   "metadata": {},
   "outputs": [
    {
     "name": "stdout",
     "output_type": "stream",
     "text": [
      "Crime\n",
      "+-------------------------------------------------------+\n",
      "|title                                                  |\n",
      "+-------------------------------------------------------+\n",
      "|Ex Drummer (2007)                                      |\n",
      "|Villain (1971)                                         |\n",
      "|Mother (Madeo) (2009)                                  |\n",
      "|Going Places (Valseuses, Les) (1974)                   |\n",
      "|12 Angry Men (1997)                                    |\n",
      "|American Friend, The (Amerikanische Freund, Der) (1977)|\n",
      "|Sisters (Syostry) (2001)                               |\n",
      "|Little Murders (1971)                                  |\n",
      "|Faster (2010)                                          |\n",
      "|Decalogue, The (Dekalog) (1989)                        |\n",
      "+-------------------------------------------------------+\n",
      "\n",
      "Romance\n",
      "+----------------------------------------------------------------+\n",
      "|title                                                           |\n",
      "+----------------------------------------------------------------+\n",
      "|All the Vermeers in New York (1990)                             |\n",
      "|Cruel Romance, A (Zhestokij Romans) (1984)                      |\n",
      "|Bossa Nova (2000)                                               |\n",
      "|Sandpiper, The (1965)                                           |\n",
      "|Duel in the Sun (1946)                                          |\n",
      "|Moscow Does Not Believe in Tears (Moskva slezam ne verit) (1979)|\n",
      "|Continental Divide (1981)                                       |\n",
      "|Seems Like Old Times (1980)                                     |\n",
      "|Man and a Woman, A (Un homme et une femme) (1966)               |\n",
      "|Rain (2001)                                                     |\n",
      "+----------------------------------------------------------------+\n",
      "\n",
      "Thriller\n",
      "+-------------------------------------------------------+\n",
      "|title                                                  |\n",
      "+-------------------------------------------------------+\n",
      "|Cherish (2002)                                         |\n",
      "|Maniac Cop 2 (1990)                                    |\n",
      "|American Friend, The (Amerikanische Freund, Der) (1977)|\n",
      "|What Happened Was... (1994)                            |\n",
      "|I, the Jury (1982)                                     |\n",
      "|'Salem's Lot (2004)                                    |\n",
      "|Mother (Madeo) (2009)                                  |\n",
      "|Breed, The (2006)                                      |\n",
      "|Assignment, The (1997)                                 |\n",
      "|Supercop 2 (Project S) (Chao ji ji hua) (1993)         |\n",
      "+-------------------------------------------------------+\n",
      "\n"
     ]
    }
   ],
   "source": [
    "moviesG = movies.withColumn(\"genres\", functions.explode(functions.split(\"genres\", \"\\\\|\")))\n",
    "ratingsAvg = ratings.groupBy(\"movieId\").avg(\"rating\")\n",
    "moviesGR = moviesG.join(ratingsAvg, moviesG[\"movieId\"]==\n",
    "                                 ratingsAvg[\"movieId\"], \"left\").select(\"title\", \"genres\", \"avg(rating)\")\n",
    "\n",
    "count = 0\n",
    "for genre in moviesGR.select(\"genres\").distinct().collect():\n",
    "    print(genre[0])\n",
    "    moviesGR.filter(moviesGR[\"genres\"] == genre[0]).orderBy(\n",
    "        functions.desc(\"avg(rating)\")).limit(10).select(\"title\").show(truncate=False)\n",
    "    count += 1\n",
    "    if (count == 3): break"
   ]
  },
  {
   "cell_type": "markdown",
   "id": "f1f18715",
   "metadata": {},
   "source": [
    "I first select the \"movieId\", \"userId\" columns in the ratings table and the ids of the first 100 movies in the movies table.\n",
    "\n",
    "Use two for loops to iterate through all movie pairs, the second loop starts from the position already traversed in the first loop to avoid double counting, use **filter()** to find the ratings for the first item and second item in movie pairs respectively, use inner join to find users who rated both items, and use **count()** to calculate the number of users who rated both items.\n",
    "\n",
    "For simplicity, only the first 5 results of are printed."
   ]
  },
  {
   "cell_type": "code",
   "execution_count": 6,
   "id": "124a93d5",
   "metadata": {},
   "outputs": [
    {
     "name": "stdout",
     "output_type": "stream",
     "text": [
      "(1,2) : 68\n",
      "(1,3) : 32\n",
      "(1,4) : 2\n",
      "(1,5) : 32\n",
      "(1,6) : 58\n"
     ]
    }
   ],
   "source": [
    "movieUserId = ratings.select(\"movieId\", \"userId\")\n",
    "frist100MovieId = movies.select(\"movieId\").limit(100).collect()\n",
    "\n",
    "count = 0\n",
    "for i, movieId1 in enumerate(frist100MovieId):\n",
    "    for movieId2 in frist100MovieId[i+1:]:\n",
    "        userMovieId1 = movieUserId.filter(movieUserId[\"movieId\"]==movieId1[0])\n",
    "        userMovieId2 = movieUserId.filter(movieUserId[\"movieId\"]==movieId2[0])\n",
    "        commonSupport = userMovieId1.join(userMovieId2, userMovieId1[\"userId\"]\n",
    "                                          ==userMovieId2[\"userId\"], \"inner\").count()\n",
    "        print(\"(\" + str(movieId1[0]) + \",\" + str(movieId2[0]) + \") : \" + str(commonSupport))\n",
    "        count += 1\n",
    "        if (count == 5): break\n",
    "    break"
   ]
  },
  {
   "cell_type": "markdown",
   "id": "e38f6307",
   "metadata": {},
   "source": [
    "I used **randomSplit()** to split the data into training set and test set.\n",
    "Using explicit feedback from **ASL()** to build a recommendation model.\n",
    "Use the training set to train the model and use the test set to predict user ratings for movies"
   ]
  },
  {
   "cell_type": "code",
   "execution_count": 7,
   "id": "306fdb1d",
   "metadata": {},
   "outputs": [
    {
     "name": "stdout",
     "output_type": "stream",
     "text": [
      "+------+-------+------+----------+----------+\n",
      "|userId|movieId|rating| timestamp|prediction|\n",
      "+------+-------+------+----------+----------+\n",
      "|   148|   4308|   4.0|1482548613|  1.685884|\n",
      "|   148|   5952|   3.0|1482548769| 2.5508559|\n",
      "|   148|   8368|   4.0|1482548676| 3.9191563|\n",
      "|   148|  40629|   5.0|1482548578| 3.3270745|\n",
      "|   148|  50872|   3.0|1482548504|  3.700086|\n",
      "|   148|  54001|   4.0|1482548674| 4.3208256|\n",
      "|   148|  69757|   3.5|1482548519| 4.6425567|\n",
      "|   148| 110102|   4.0|1482548669|  2.855833|\n",
      "|   148| 116797|   4.5|1482550073| 2.9059036|\n",
      "|   148| 152081|   4.0|1482548452|  4.472422|\n",
      "|   148| 157296|   3.0|1482548671| 5.1432962|\n",
      "|   463|    527|   4.0|1145460304|  4.421393|\n",
      "|   463|   1088|   3.5|1145460096| 4.7167683|\n",
      "|   463|   3977|   2.0|1145459381| 3.8309066|\n",
      "|   463|  36529|   4.5|1145460284| 4.1542473|\n",
      "|   471|    296|   4.0|1496671827| 4.2878375|\n",
      "|   471|   8874|   3.5|1496668982|  5.242627|\n",
      "|   496|    904|   5.0|1415166605| 3.7519712|\n",
      "|   496|   2394|   3.5|1415165480|  1.843289|\n",
      "|   496|   3668|   3.0|1415165655| 2.6650782|\n",
      "+------+-------+------+----------+----------+\n",
      "only showing top 20 rows\n",
      "\n"
     ]
    }
   ],
   "source": [
    "trainingSet, testSet = ratings.randomSplit([8., 2.])\n",
    "alsExplicit = ALS(maxIter=5, regParam=0.01, userCol=\"userId\", \n",
    "                  itemCol=\"movieId\", ratingCol=\"rating\", coldStartStrategy=\"drop\")\n",
    "modelExplicit = alsExplicit.fit(trainingSet)\n",
    "predictionsExplicit = modelExplicit.transform(testSet)\n",
    "predictionsExplicit.show()"
   ]
  },
  {
   "cell_type": "markdown",
   "id": "7036338a",
   "metadata": {},
   "source": [
    "Evaluate the model based on the root mean squared error of rating predictions"
   ]
  },
  {
   "cell_type": "code",
   "execution_count": 9,
   "id": "92994e37",
   "metadata": {},
   "outputs": [
    {
     "name": "stdout",
     "output_type": "stream",
     "text": [
      "Explicit:Root-mean-square error = 1.074742200139716\n"
     ]
    }
   ],
   "source": [
    "evaluator = RegressionEvaluator(metricName=\"rmse\", labelCol=\"rating\", predictionCol =\"prediction\")\n",
    "rmseExplicit = evaluator.evaluate(predictionsExplicit)\n",
    "print(\"Explicit:Root-mean-square error = \"+str(rmseExplicit))"
   ]
  },
  {
   "cell_type": "markdown",
   "id": "5c771dc5",
   "metadata": {},
   "source": [
    "For a user(Id), **getRecommend()** returns the top 5 movies with the highest predictions of ratings, thus completing the recommendation."
   ]
  },
  {
   "cell_type": "code",
   "execution_count": 10,
   "id": "4848253f",
   "metadata": {},
   "outputs": [],
   "source": [
    "def getRecommend(userId):\n",
    "    recommendIds = predictionsExplicit.filter(predictionsExplicit[\"userId\"]\n",
    "                                              ==userId).orderBy(functions.desc(\"prediction\")).limit(5)\n",
    "    \n",
    "    recommendMovies = recommendIds.join(movies, recommendIds[\"movieId\"]\n",
    "                                        ==movies[\"movieId\"], \"left\").select(\"title\")\n",
    "    \n",
    "    recommendMovies.show(truncate=False)"
   ]
  },
  {
   "cell_type": "code",
   "execution_count": 11,
   "id": "a60aedb6",
   "metadata": {},
   "outputs": [
    {
     "name": "stdout",
     "output_type": "stream",
     "text": [
      "+--------------------------------------+\n",
      "|title                                 |\n",
      "+--------------------------------------+\n",
      "|Shadowlands (1993)                    |\n",
      "|Dances with Wolves (1990)             |\n",
      "|Usual Suspects, The (1995)            |\n",
      "|Snow White and the Seven Dwarfs (1937)|\n",
      "|Once Were Warriors (1994)             |\n",
      "+--------------------------------------+\n",
      "\n"
     ]
    }
   ],
   "source": [
    "getRecommend(5)"
   ]
  },
  {
   "cell_type": "code",
   "execution_count": 38,
   "id": "71dca35a",
   "metadata": {},
   "outputs": [],
   "source": [
    "mu = trainingSet.select(functions.avg(\"rating\")).collect()[0][0]\n",
    "userIds = trainingSet.select(\"userId\").distinct().sort(\"userId\")\n",
    "movieIds = trainingSet.select(\"movieId\").distinct().sort(\"movieId\")\n",
    "ratings = np.zeros([userIds.tail(1)[0][0], movieIds.tail(1)[0][0]])\n",
    "\n",
    "# numUsers = trainingSet.select(\"userId\").distinct().count()\n",
    "# numMovies= trainingSet.select(\"movieId\").distinct().count()\n",
    "# biases = np.ones([numUsers, numMovies])"
   ]
  },
  {
   "cell_type": "code",
   "execution_count": 41,
   "id": "4d038e4d",
   "metadata": {},
   "outputs": [
    {
     "data": {
      "text/plain": [
       "193587"
      ]
     },
     "execution_count": 41,
     "metadata": {},
     "output_type": "execute_result"
    }
   ],
   "source": [
    "movieIds.tail(1)[0][0]"
   ]
  },
  {
   "cell_type": "code",
   "execution_count": null,
   "id": "3a8e7b07",
   "metadata": {},
   "outputs": [],
   "source": []
  }
 ],
 "metadata": {
  "kernelspec": {
   "display_name": "Python 3 (ipykernel)",
   "language": "python",
   "name": "python3"
  },
  "language_info": {
   "codemirror_mode": {
    "name": "ipython",
    "version": 3
   },
   "file_extension": ".py",
   "mimetype": "text/x-python",
   "name": "python",
   "nbconvert_exporter": "python",
   "pygments_lexer": "ipython3",
   "version": "3.9.7"
  }
 },
 "nbformat": 4,
 "nbformat_minor": 5
}
