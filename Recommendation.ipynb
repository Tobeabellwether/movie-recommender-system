{
 "cells": [
  {
   "cell_type": "code",
   "execution_count": 11,
   "id": "58f7216c",
   "metadata": {},
   "outputs": [],
   "source": [
    "from pyspark import SparkConf\n",
    "from pyspark.ml import Pipeline, PipelineModel\n",
    "from pyspark.ml.feature import VectorAssembler, Normalizer\n",
    "from pyspark.sql import SparkSession, functions, types\n",
    "from pyspark.ml.regression import LinearRegression\n",
    "from pyspark.ml.evaluation import RegressionEvaluator\n",
    "from pyspark.ml.recommendation import ALS\n",
    "import matplotlib.pyplot as plt\n",
    "import numpy as np\n",
    "%matplotlib inline"
   ]
  },
  {
   "cell_type": "code",
   "execution_count": 12,
   "id": "7363c81c",
   "metadata": {},
   "outputs": [],
   "source": [
    "spark = SparkSession.builder.master(\"local\").appName(\"Recommendation\").getOrCreate()\n",
    "movies= spark.read.csv(\"./movies.csv\", inferSchema = True, header = True)\n",
    "ratings = spark.read.csv(\"./ratings.csv\", inferSchema = True, header = True)"
   ]
  },
  {
   "cell_type": "code",
   "execution_count": 13,
   "id": "1a452fef",
   "metadata": {},
   "outputs": [
    {
     "name": "stdout",
     "output_type": "stream",
     "text": [
      "+-------+----------------------------------+-------------------------------------------+\n",
      "|movieId|title                             |genres                                     |\n",
      "+-------+----------------------------------+-------------------------------------------+\n",
      "|1      |Toy Story (1995)                  |Adventure|Animation|Children|Comedy|Fantasy|\n",
      "|2      |Jumanji (1995)                    |Adventure|Children|Fantasy                 |\n",
      "|3      |Grumpier Old Men (1995)           |Comedy|Romance                             |\n",
      "|4      |Waiting to Exhale (1995)          |Comedy|Drama|Romance                       |\n",
      "|5      |Father of the Bride Part II (1995)|Comedy                                     |\n",
      "+-------+----------------------------------+-------------------------------------------+\n",
      "only showing top 5 rows\n",
      "\n",
      "+------+-------+------+---------+\n",
      "|userId|movieId|rating|timestamp|\n",
      "+------+-------+------+---------+\n",
      "|     1|      1|   4.0|964982703|\n",
      "|     1|      3|   4.0|964981247|\n",
      "|     1|      6|   4.0|964982224|\n",
      "|     1|     47|   5.0|964983815|\n",
      "|     1|     50|   5.0|964982931|\n",
      "+------+-------+------+---------+\n",
      "only showing top 5 rows\n",
      "\n"
     ]
    }
   ],
   "source": [
    "movies.show(5, truncate = False)\n",
    "ratings.show(5)"
   ]
  },
  {
   "cell_type": "markdown",
   "id": "8a2e2a2c",
   "metadata": {},
   "source": [
    "First, for the ratings table, I use **groupBy()** to group data with the same movieId, **count()** to count the number of ratings for each movieId, and generate a new column \"count\", and then use **orderBy()** and **functions.desc()** to sort in descending order based on \"count\", and then use **limit()** to get the ten with the highest counts, so that to get ids of the top-10 movies with the largest number of ratings\n",
    "\n",
    "Finally, use the id of the top10 movie and the movies table to perform a left join based on \"movieId\" column, and then use **select()** to select the “title” column to get the top10 movie names"
   ]
  },
  {
   "cell_type": "code",
   "execution_count": 14,
   "id": "6135f021",
   "metadata": {},
   "outputs": [
    {
     "name": "stdout",
     "output_type": "stream",
     "text": [
      "+-----------------------------------------+\n",
      "|title                                    |\n",
      "+-----------------------------------------+\n",
      "|Forrest Gump (1994)                      |\n",
      "|Shawshank Redemption, The (1994)         |\n",
      "|Pulp Fiction (1994)                      |\n",
      "|Silence of the Lambs, The (1991)         |\n",
      "|Matrix, The (1999)                       |\n",
      "|Star Wars: Episode IV - A New Hope (1977)|\n",
      "|Jurassic Park (1993)                     |\n",
      "|Braveheart (1995)                        |\n",
      "|Terminator 2: Judgment Day (1991)        |\n",
      "|Schindler's List (1993)                  |\n",
      "+-----------------------------------------+\n",
      "\n"
     ]
    },
    {
     "name": "stderr",
     "output_type": "stream",
     "text": [
      "\r",
      "[Stage 142:===================================================> (193 + 1) / 200]\r",
      "\r",
      "                                                                                \r"
     ]
    }
   ],
   "source": [
    "topIds = ratings.groupBy(\"movieId\").count().orderBy(functions.desc(\"count\")).limit(10).select(\"movieId\")\n",
    "topNames = topIds.join(movies, topIds[\"movieId\"] == movies[\"movieId\"], \"left\").select(\"title\")\n",
    "topNames.show(truncate = False)"
   ]
  },
  {
   "cell_type": "markdown",
   "id": "64cb1e13",
   "metadata": {},
   "source": [
    "Since each movie may belong to multiple genres, I first used **functions.explode()** and **functions.split()** split the movie data belonging to multiple genres into multiple lines, each line containing exactly one genre.\n",
    "\n",
    "Then I used **groupBy()** and **avg()** on the ratings table to average all ratings for each movie.\n",
    "\n",
    "After this, I use **join()** to join the previous results together: i.e. each row of data should contain the movie's title, its genre, and the user's average rating for it.\n",
    "\n",
    "Finally, for each genre's movie, use **filter()** to get all the data of movies with this genre, and use the method of the previous question to sort the data in descending order based on the average rating, and get the titles of the top 10.\n",
    "\n",
    "For simplicity, only the results of the first three gernes are printed."
   ]
  },
  {
   "cell_type": "code",
   "execution_count": 15,
   "id": "2c8a478d",
   "metadata": {},
   "outputs": [
    {
     "name": "stdout",
     "output_type": "stream",
     "text": [
      "Crime\n",
      "+-------------------------------------------------------+\n",
      "|title                                                  |\n",
      "+-------------------------------------------------------+\n",
      "|Ex Drummer (2007)                                      |\n",
      "|Villain (1971)                                         |\n",
      "|Mother (Madeo) (2009)                                  |\n",
      "|Going Places (Valseuses, Les) (1974)                   |\n",
      "|12 Angry Men (1997)                                    |\n",
      "|American Friend, The (Amerikanische Freund, Der) (1977)|\n",
      "|Sisters (Syostry) (2001)                               |\n",
      "|Little Murders (1971)                                  |\n",
      "|Faster (2010)                                          |\n",
      "|Decalogue, The (Dekalog) (1989)                        |\n",
      "+-------------------------------------------------------+\n",
      "\n",
      "Romance\n",
      "+----------------------------------------------------------------+\n",
      "|title                                                           |\n",
      "+----------------------------------------------------------------+\n",
      "|All the Vermeers in New York (1990)                             |\n",
      "|Cruel Romance, A (Zhestokij Romans) (1984)                      |\n",
      "|Bossa Nova (2000)                                               |\n",
      "|Sandpiper, The (1965)                                           |\n",
      "|Duel in the Sun (1946)                                          |\n",
      "|Moscow Does Not Believe in Tears (Moskva slezam ne verit) (1979)|\n",
      "|Continental Divide (1981)                                       |\n",
      "|Seems Like Old Times (1980)                                     |\n",
      "|Man and a Woman, A (Un homme et une femme) (1966)               |\n",
      "|Rain (2001)                                                     |\n",
      "+----------------------------------------------------------------+\n",
      "\n",
      "Thriller\n",
      "+-------------------------------------------------------+\n",
      "|title                                                  |\n",
      "+-------------------------------------------------------+\n",
      "|Cherish (2002)                                         |\n",
      "|Maniac Cop 2 (1990)                                    |\n",
      "|American Friend, The (Amerikanische Freund, Der) (1977)|\n",
      "|What Happened Was... (1994)                            |\n",
      "|I, the Jury (1982)                                     |\n",
      "|'Salem's Lot (2004)                                    |\n",
      "|Mother (Madeo) (2009)                                  |\n",
      "|Breed, The (2006)                                      |\n",
      "|Assignment, The (1997)                                 |\n",
      "|Supercop 2 (Project S) (Chao ji ji hua) (1993)         |\n",
      "+-------------------------------------------------------+\n",
      "\n"
     ]
    }
   ],
   "source": [
    "moviesG = movies.withColumn(\"genres\", functions.explode(functions.split(\"genres\", \"\\\\|\")))\n",
    "ratingsAvg = ratings.groupBy(\"movieId\").avg(\"rating\")\n",
    "moviesGR = moviesG.join(ratingsAvg, moviesG[\"movieId\"]==\n",
    "                                 ratingsAvg[\"movieId\"], \"left\").select(\"title\", \"genres\", \"avg(rating)\")\n",
    "\n",
    "count = 0\n",
    "for genre in moviesGR.select(\"genres\").distinct().collect():\n",
    "    print(genre[0])\n",
    "    moviesGR.filter(moviesGR[\"genres\"] == genre[0]).orderBy(\n",
    "        functions.desc(\"avg(rating)\")).limit(10).select(\"title\").show(truncate=False)\n",
    "    count += 1\n",
    "    if (count == 3): break"
   ]
  },
  {
   "cell_type": "markdown",
   "id": "815e47c3",
   "metadata": {},
   "source": [
    "I first select the \"movieId\", \"userId\" columns in the ratings table and the ids of the first 100 movies in the movies table.\n",
    "\n",
    "Use two for loops to iterate through all movie pairs, the second loop starts from the position already traversed in the first loop to avoid double counting, use **filter()** to find the ratings for the first item and second item in movie pairs respectively, use inner join to find users who rated both items, and use **count()** to calculate the number of users who rated both items.\n",
    "\n",
    "For simplicity, only the first 5 results of are printed."
   ]
  },
  {
   "cell_type": "code",
   "execution_count": 16,
   "id": "124a93d5",
   "metadata": {},
   "outputs": [
    {
     "name": "stdout",
     "output_type": "stream",
     "text": [
      "(1,2) : 68\n",
      "(1,3) : 32\n",
      "(1,4) : 2\n",
      "(1,5) : 32\n",
      "(1,6) : 58\n"
     ]
    }
   ],
   "source": [
    "movieUserId = ratings.select(\"movieId\", \"userId\")\n",
    "frist100MovieId = movies.select(\"movieId\").limit(100).collect()\n",
    "\n",
    "count = 0\n",
    "for i, movieId1 in enumerate(frist100MovieId):\n",
    "    for movieId2 in frist100MovieId[i+1:]:\n",
    "        userMovieId1 = movieUserId.filter(movieUserId[\"movieId\"]==movieId1[0])\n",
    "        userMovieId2 = movieUserId.filter(movieUserId[\"movieId\"]==movieId2[0])\n",
    "        commonSupport = userMovieId1.join(userMovieId2, userMovieId1[\"userId\"]\n",
    "                                          ==userMovieId2[\"userId\"], \"inner\").count()\n",
    "        print(\"(\" + str(movieId1[0]) + \",\" + str(movieId2[0]) + \") : \" + str(commonSupport))\n",
    "        count += 1\n",
    "        if (count == 5): break\n",
    "    break"
   ]
  },
  {
   "cell_type": "markdown",
   "id": "5752ef5d",
   "metadata": {},
   "source": [
    "I used **randomSplit()** to split the data into training set and test set.\n",
    "Using explicit feedback from **ASL()** to build a recommendation model.\n",
    "Use the training set to train the model and use the test set to predict user ratings for movies"
   ]
  },
  {
   "cell_type": "code",
   "execution_count": 17,
   "id": "306fdb1d",
   "metadata": {},
   "outputs": [
    {
     "name": "stderr",
     "output_type": "stream",
     "text": [
      "[Stage 222:============>(190 + 1) / 200][Stage 223:=>              (1 + 0) / 10]\r"
     ]
    },
    {
     "name": "stdout",
     "output_type": "stream",
     "text": [
      "+------+-------+------+----------+----------+\n",
      "|userId|movieId|rating| timestamp|prediction|\n",
      "+------+-------+------+----------+----------+\n",
      "|   597|    471|   2.0| 941558175|  3.155017|\n",
      "|    91|    471|   1.0|1112713817| 2.2742562|\n",
      "|   372|    471|   3.0| 874415126| 3.4207525|\n",
      "|   474|    471|   3.0| 974668858|  4.519757|\n",
      "|   520|    471|   5.0|1326609921| 3.2034023|\n",
      "|   411|    471|   4.0| 835532928| 2.6807187|\n",
      "|    44|    833|   2.0| 869252237| 3.7162113|\n",
      "|   307|    833|   1.0|1186172725| 2.4606986|\n",
      "|   608|    833|   0.5|1117506344| 2.6023002|\n",
      "|   606|   1088|   3.0|1171926956|  4.141743|\n",
      "|   599|   1088|   2.5|1498515232| 2.8825223|\n",
      "|   169|   1088|   4.5|1059427717| 4.5254645|\n",
      "|    64|   1088|   4.0|1161559902| 2.9987643|\n",
      "|    41|   1088|   1.5|1458939142| 3.8409963|\n",
      "|   387|   1088|   1.5|1095040878| 2.9089382|\n",
      "|   200|   1088|   4.0|1229887977|  5.091709|\n",
      "|   188|   1088|   4.0| 962560253| 4.0625443|\n",
      "|    68|   1088|   3.5|1158534614|  4.072585|\n",
      "|   600|   1088|   3.5|1237851304|  3.051816|\n",
      "|   104|   1088|   3.0|1048590956| 3.9060264|\n",
      "+------+-------+------+----------+----------+\n",
      "only showing top 20 rows\n",
      "\n"
     ]
    },
    {
     "name": "stderr",
     "output_type": "stream",
     "text": [
      "\r",
      "                                                                                \r"
     ]
    }
   ],
   "source": [
    "trainingSet, testSet = ratings.randomSplit([8., 2.])\n",
    "alsExplicit = ALS(maxIter=5, regParam=0.01, userCol=\"userId\", \n",
    "                  itemCol=\"movieId\", ratingCol=\"rating\", coldStartStrategy=\"drop\")\n",
    "modelExplicit = alsExplicit.fit(trainingSet)\n",
    "predictionsExplicit = modelExplicit.transform(testSet)\n",
    "predictionsExplicit.show()"
   ]
  },
  {
   "cell_type": "markdown",
   "id": "3ab5e010",
   "metadata": {},
   "source": [
    "Evaluate the model based on the root mean squared error of rating predictions"
   ]
  },
  {
   "cell_type": "code",
   "execution_count": 18,
   "id": "92994e37",
   "metadata": {},
   "outputs": [
    {
     "name": "stderr",
     "output_type": "stream",
     "text": [
      "[Stage 242:============================================>        (167 + 1) / 200]\r"
     ]
    },
    {
     "name": "stdout",
     "output_type": "stream",
     "text": [
      "Explicit:Root-mean-square error = 1.1240775356812054\n"
     ]
    },
    {
     "name": "stderr",
     "output_type": "stream",
     "text": [
      "\r",
      "[Stage 242:==================================================>  (189 + 1) / 200]\r",
      "\r",
      "                                                                                \r"
     ]
    }
   ],
   "source": [
    "evaluator = RegressionEvaluator(metricName=\"rmse\", labelCol=\"rating\", predictionCol =\"prediction\")\n",
    "rmseExplicit = evaluator.evaluate(predictionsExplicit)\n",
    "print(\"Explicit:Root-mean-square error = \"+str(rmseExplicit))"
   ]
  },
  {
   "cell_type": "markdown",
   "id": "45d88082",
   "metadata": {},
   "source": [
    "For a user(Id), **getRecommend()** returns the top 5 movies with the highest predictions of ratings, thus completing the recommendation."
   ]
  },
  {
   "cell_type": "code",
   "execution_count": 9,
   "id": "4848253f",
   "metadata": {},
   "outputs": [
    {
     "name": "stderr",
     "output_type": "stream",
     "text": [
      "[Stage 128:=================================================>   (185 + 1) / 200]\r"
     ]
    },
    {
     "name": "stdout",
     "output_type": "stream",
     "text": [
      "+----------------------------------------------------------+\n",
      "|title                                                     |\n",
      "+----------------------------------------------------------+\n",
      "|Like Water for Chocolate (Como agua para chocolate) (1992)|\n",
      "|Remains of the Day, The (1993)                            |\n",
      "|Shawshank Redemption, The (1994)                          |\n",
      "|In the Line of Fire (1993)                                |\n",
      "|Legends of the Fall (1994)                                |\n",
      "+----------------------------------------------------------+\n",
      "\n"
     ]
    },
    {
     "name": "stderr",
     "output_type": "stream",
     "text": [
      "\r",
      "                                                                                \r"
     ]
    }
   ],
   "source": [
    "def getRecommend(userId):\n",
    "    recommendIds = predictionsExplicit.filter(predictionsExplicit[\"userId\"]\n",
    "                                              ==userId).orderBy(functions.desc(\"prediction\")).limit(5)\n",
    "    \n",
    "    recommendMovies = recommendIds.join(movies, recommendIds[\"movieId\"]\n",
    "                                        ==movies[\"movieId\"], \"left\").select(\"title\")\n",
    "    \n",
    "    recommendMovies.show(truncate=False)\n",
    "    \n",
    "getRecommend(5)"
   ]
  }
 ],
 "metadata": {
  "kernelspec": {
   "display_name": "Python 3 (ipykernel)",
   "language": "python",
   "name": "python3"
  },
  "language_info": {
   "codemirror_mode": {
    "name": "ipython",
    "version": 3
   },
   "file_extension": ".py",
   "mimetype": "text/x-python",
   "name": "python",
   "nbconvert_exporter": "python",
   "pygments_lexer": "ipython3",
   "version": "3.9.7"
  }
 },
 "nbformat": 4,
 "nbformat_minor": 5
}
